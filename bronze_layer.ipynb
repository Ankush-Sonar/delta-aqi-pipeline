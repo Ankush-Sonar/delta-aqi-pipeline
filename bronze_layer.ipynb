{
 "cells": [
  {
   "cell_type": "code",
   "execution_count": 0,
   "metadata": {
    "application/vnd.databricks.v1+cell": {
     "cellMetadata": {
      "byteLimit": 2048000,
      "rowLimit": 10000
     },
     "inputWidgets": {},
     "nuid": "90162b1a-48c6-49b7-a3ee-c8c304e6ad6e",
     "showTitle": false,
     "tableResultSettingsMap": {},
     "title": ""
    }
   },
   "outputs": [],
   "source": [
    "from pyspark.sql.types import *\n",
    "from pyspark.sql.functions import *\n",
    "\n",
    "schema = StructType([\n",
    "    # StructField(\"name\", StringType(), True),\n",
    "    StructField(\"Date\", StringType(), True),\n",
    "    StructField(\"Location\", StringType(), True),\n",
    "    StructField(\"PM2.5\", FloatType(), True),\n",
    "    StructField(\"PM10\", FloatType(), True),\n",
    "    StructField(\"NO2\", FloatType(), True),\n",
    "    StructField(\"NH3\", FloatType(), True),\n",
    "    StructField(\"SO2\", FloatType(), True),\n",
    "    StructField(\"CO\", FloatType(), True),\n",
    "    StructField(\"O3\", FloatType(), True),\n",
    "])\n",
    "\n",
    "for entity in dbutils.fs.ls(\"/Volumes/aqi_cat/bronze_schema/bronze_raw/\"):\n",
    "    df = (\n",
    "    spark.read.format(\"csv\")\n",
    "    .option(\"header\", \"true\")\n",
    "    .schema(schema)\n",
    "    .load(f\"/Volumes/aqi_cat/bronze_schema/bronze_raw/{entity.name}\")\n",
    "    )\n",
    "\n",
    "    df = df.withColumn(\"Date\", to_date(\"Date\", \"dd-MM-yyyy\"))\n",
    "    \n",
    "    table_name = entity.name.replace(\".csv\", \"\")\n",
    "    (\n",
    "        df.write\n",
    "          .format(\"delta\")\n",
    "          .mode(\"overwrite\")\n",
    "          .saveAsTable(f\"aqi_cat.bronze_schema.{table_name}\")\n",
    "    )\n",
    "\n",
    "    df.show(5)\n",
    "\n",
    "# inferSchema la define krr dar \n",
    "\n",
    "# from delta.tables import DeltaTable\n",
    "# delta_table = DeltaTable.forName(spark, \"aqi_cat.bronze_schema.bengaluru_bronze\")\n",
    "# history_df = delta_table.history()  # default shows all commits\n",
    "# display(history_df)\n",
    "\n",
    "# SELECT * FROM aqi_cat.bronze_schema.bengaluru_bronze VERSION AS OF 2;"
   ]
  },
  {
   "cell_type": "code",
   "execution_count": 0,
   "metadata": {
    "application/vnd.databricks.v1+cell": {
     "cellMetadata": {
      "byteLimit": 2048000,
      "rowLimit": 10000
     },
     "inputWidgets": {},
     "nuid": "4b2e2c85-3a28-432d-9ca8-568fd76978e0",
     "showTitle": false,
     "tableResultSettingsMap": {},
     "title": ""
    }
   },
   "outputs": [],
   "source": [
    "daqi = (\n",
    "    spark.read.format(\"csv\")\n",
    "    .option(\"header\", \"true\")\n",
    "    .option(\"inferSchema\", \"true\")\n",
    "    .load(f\"/Volumes/aqi_cat/bronze_schema/bronze_raw/AQI_pollution_type.csv\")\n",
    "    )\n",
    "\n",
    "daqi.show(5)"
   ]
  }
 ],
 "metadata": {
  "application/vnd.databricks.v1+notebook": {
   "computePreferences": null,
   "dashboards": [],
   "environmentMetadata": {
    "base_environment": "",
    "environment_version": "3"
   },
   "inputWidgetPreferences": null,
   "language": "python",
   "notebookMetadata": {
    "mostRecentlyExecutedCommandWithImplicitDF": {
     "commandId": 5706886881202209,
     "dataframes": [
      "_sqldf"
     ]
    },
    "pythonIndentUnit": 4
   },
   "notebookName": "bronze_layer",
   "widgets": {}
  },
  "language_info": {
   "name": "python"
  }
 },
 "nbformat": 4,
 "nbformat_minor": 0
}
